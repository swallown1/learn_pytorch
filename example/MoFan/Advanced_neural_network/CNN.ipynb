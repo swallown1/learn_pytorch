{
 "cells": [
  {
   "cell_type": "code",
   "execution_count": 1,
   "metadata": {},
   "outputs": [],
   "source": [
    "import torch\n",
    "import torch.nn as nn\n",
    "from torch.autograd import Variable\n",
    "import torch.utils.data as Data\n",
    "import torchvision\n",
    "import matplotlib.pyplot as plt"
   ]
  },
  {
   "cell_type": "code",
   "execution_count": 4,
   "metadata": {},
   "outputs": [],
   "source": [
    "# Hyper Parameters\n",
    "EPOCH = 1\n",
    "BATCH_SIZE = 50\n",
    "LR = 0.01\n",
    "DOWNLOAD_MNIST = True"
   ]
  },
  {
   "cell_type": "code",
   "execution_count": 5,
   "metadata": {
    "collapsed": true
   },
   "outputs": [
    {
     "name": "stdout",
     "output_type": "stream",
     "text": [
      "Downloading http://yann.lecun.com/exdb/mnist/train-images-idx3-ubyte.gz to ./mnist/MNIST/raw/train-images-idx3-ubyte.gz\n"
     ]
    },
    {
     "name": "stderr",
     "output_type": "stream",
     "text": [
      "100.1%"
     ]
    },
    {
     "name": "stdout",
     "output_type": "stream",
     "text": [
      "Extracting ./mnist/MNIST/raw/train-images-idx3-ubyte.gz to ./mnist/MNIST/raw\n",
      "Downloading http://yann.lecun.com/exdb/mnist/train-labels-idx1-ubyte.gz to ./mnist/MNIST/raw/train-labels-idx1-ubyte.gz\n"
     ]
    },
    {
     "name": "stderr",
     "output_type": "stream",
     "text": [
      "113.5%"
     ]
    },
    {
     "name": "stdout",
     "output_type": "stream",
     "text": [
      "Extracting ./mnist/MNIST/raw/train-labels-idx1-ubyte.gz to ./mnist/MNIST/raw\n",
      "Downloading http://yann.lecun.com/exdb/mnist/t10k-images-idx3-ubyte.gz to ./mnist/MNIST/raw/t10k-images-idx3-ubyte.gz\n"
     ]
    },
    {
     "name": "stderr",
     "output_type": "stream",
     "text": [
      "100.4%"
     ]
    },
    {
     "name": "stdout",
     "output_type": "stream",
     "text": [
      "Extracting ./mnist/MNIST/raw/t10k-images-idx3-ubyte.gz to ./mnist/MNIST/raw\n",
      "Downloading http://yann.lecun.com/exdb/mnist/t10k-labels-idx1-ubyte.gz to ./mnist/MNIST/raw/t10k-labels-idx1-ubyte.gz\n"
     ]
    },
    {
     "name": "stderr",
     "output_type": "stream",
     "text": [
      "180.4%"
     ]
    },
    {
     "name": "stdout",
     "output_type": "stream",
     "text": [
      "Extracting ./mnist/MNIST/raw/t10k-labels-idx1-ubyte.gz to ./mnist/MNIST/raw\n",
      "Processing...\n",
      "Done!\n"
     ]
    },
    {
     "name": "stderr",
     "output_type": "stream",
     "text": [
      "/home/neu/anaconda3/envs/pytorch-env/lib/python3.6/site-packages/torchvision/datasets/mnist.py:480: UserWarning: The given NumPy array is not writeable, and PyTorch does not support non-writeable tensors. This means you can write to the underlying (supposedly non-writeable) NumPy array using the tensor. You may want to copy the array to protect its data or make it writeable before converting it to a tensor. This type of warning will be suppressed for the rest of this program. (Triggered internally at  /opt/conda/conda-bld/pytorch_1603729128610/work/torch/csrc/utils/tensor_numpy.cpp:141.)\n",
      "  return torch.from_numpy(parsed.astype(m[2], copy=False)).view(*s)\n"
     ]
    }
   ],
   "source": [
    "train_data = torchvision.datasets.MNIST(\n",
    "    root = './mnist',\n",
    "    train=True,\n",
    "    transform=torchvision.transforms.ToTensor(),\n",
    "    download=DOWNLOAD_MNIST\n",
    ")"
   ]
  },
  {
   "cell_type": "code",
   "execution_count": 8,
   "metadata": {},
   "outputs": [
    {
     "name": "stdout",
     "output_type": "stream",
     "text": [
      "torch.Size([60000, 28, 28])\n"
     ]
    }
   ],
   "source": [
    "print(train_data.data.size())"
   ]
  },
  {
   "cell_type": "code",
   "execution_count": 9,
   "metadata": {},
   "outputs": [
    {
     "name": "stdout",
     "output_type": "stream",
     "text": [
      "torch.Size([60000])\n"
     ]
    }
   ],
   "source": [
    "print(train_data.targets.size())"
   ]
  },
  {
   "cell_type": "code",
   "execution_count": 12,
   "metadata": {},
   "outputs": [
    {
     "data": {
      "image/png": "[encoded data removed]",
      "text/plain": [
       "<Figure size 432x288 with 1 Axes>"
      ]
     },
     "metadata": {
      "needs_background": "light"
     },
     "output_type": "display_data"
    }
   ],
   "source": [
    "plt.imshow(train_data.data[0].numpy(), cmap='gray')\n",
    "plt.title('%i' % train_data.targets[0])\n",
    "plt.show()"
   ]
  },
  {
   "cell_type": "code",
   "execution_count": 14,
   "metadata": {},
   "outputs": [],
   "source": [
    "train_loader = Data.DataLoader(dataset=train_data, \n",
    "                               batch_size=BATCH_SIZE, \n",
    "                               shuffle=True,\n",
    "                               num_workers=2\n",
    "                              )"
   ]
  },
  {
   "cell_type": "code",
   "execution_count": 15,
   "metadata": {},
   "outputs": [],
   "source": [
    "test_data = torchvision.datasets.MNIST(\n",
    "    root = './mnist',\n",
    "    train=False\n",
    ")"
   ]
  },
  {
   "cell_type": "code",
   "execution_count": 17,
   "metadata": {},
   "outputs": [
    {
     "name": "stderr",
     "output_type": "stream",
     "text": [
      "/home/neu/anaconda3/envs/pytorch-env/lib/python3.6/site-packages/ipykernel_launcher.py:1: UserWarning: volatile was removed and now has no effect. Use `with torch.no_grad():` instead.\n",
      "  \"\"\"Entry point for launching an IPython kernel.\n"
     ]
    }
   ],
   "source": [
    "test_x = Variable(torch.unsqueeze(test_data.data, dim=1), volatile=True).type(torch.FloatTensor)[:2000]/255.\n",
    "test_y = test_data.targets[:2000]"
   ]
  },
  {
   "cell_type": "code",
   "execution_count": 18,
   "metadata": {},
   "outputs": [],
   "source": [
    "test_x = Variable(torch.unsqueeze(test_data.data, dim=1)).type(torch.FloatTensor)[:2000]/255.\n",
    "test_y = test_data.targets[:2000]"
   ]
  },
  {
   "cell_type": "code",
   "execution_count": 28,
   "metadata": {},
   "outputs": [],
   "source": [
    "class CNN(nn.Module):\n",
    "    def __init__(self):\n",
    "        super(CNN, self).__init__()\n",
    "        self.conv1 = nn.Sequential(\n",
    "            nn.Conv2d( #(1,28,28)\n",
    "                in_channels=1,#输入数据通道数\n",
    "                out_channels=16, #输出通道数\n",
    "                kernel_size=5, #卷积核大小\n",
    "                stride=1,#布长\n",
    "                padding=2 #填充,默认用0填充\n",
    "            ),#(16, 28,28)\n",
    "            nn.ReLU(),\n",
    "            nn.MaxPool2d(kernel_size=2), #(16, 14, 14)\n",
    "        )\n",
    "        self.conv2 = nn.Sequential(\n",
    "            nn.Conv2d( #(16, 14,14)\n",
    "                in_channels=16,#输入数据通道数\n",
    "                out_channels=32, #输出通道数\n",
    "                kernel_size=5, #卷积核大小\n",
    "                stride=1,#布长\n",
    "                padding=2 #填充,默认用0填充\n",
    "            ), #(32, 14,14)\n",
    "            nn.ReLU(),\n",
    "            nn.MaxPool2d(kernel_size=2),#(32,7,7)\n",
    "        )\n",
    "        self.out = nn.Linear(32*7*7, 10) \n",
    "        \n",
    "    def forward(self, x):\n",
    "        x = self.conv1(x)\n",
    "        x = self.conv2(x) #(batch, 32,7,7)\n",
    "        x = x.view(x.size(0), -1) #(x.size(0):batch, -1:32*7*7)\n",
    "        output = self.out(x)\n",
    "        return output"
   ]
  },
  {
   "cell_type": "code",
   "execution_count": 29,
   "metadata": {},
   "outputs": [],
   "source": [
    "cnn = CNN()"
   ]
  },
  {
   "cell_type": "code",
   "execution_count": 30,
   "metadata": {},
   "outputs": [
    {
     "data": {
      "text/plain": [
       "CNN(\n",
       "  (conv1): Sequential(\n",
       "    (0): Conv2d(1, 16, kernel_size=(5, 5), stride=(1, 1), padding=(2, 2))\n",
       "    (1): ReLU()\n",
       "    (2): MaxPool2d(kernel_size=2, stride=2, padding=0, dilation=1, ceil_mode=False)\n",
       "  )\n",
       "  (conv2): Sequential(\n",
       "    (0): Conv2d(16, 32, kernel_size=(5, 5), stride=(1, 1), padding=(2, 2))\n",
       "    (1): ReLU()\n",
       "    (2): MaxPool2d(kernel_size=2, stride=2, padding=0, dilation=1, ceil_mode=False)\n",
       "  )\n",
       "  (out): Linear(in_features=1568, out_features=10, bias=True)\n",
       ")"
      ]
     },
     "execution_count": 30,
     "metadata": {},
     "output_type": "execute_result"
    }
   ],
   "source": [
    "cnn"
   ]
  },
  {
   "cell_type": "code",
   "execution_count": 31,
   "metadata": {},
   "outputs": [],
   "source": [
    "optimizer = torch.optim.Adam(cnn.parameters(), lr=LR)\n",
    "loss_func = nn.CrossEntropyLoss()"
   ]
  },
  {
   "cell_type": "code",
   "execution_count": 32,
   "metadata": {},
   "outputs": [
    {
     "name": "stdout",
     "output_type": "stream",
     "text": [
      "Epoch:  0 | train loss: 2.2924 | test accuracy: 0.1025\n",
      "Epoch:  0 | train loss: 0.2180 | test accuracy: 0.8955\n",
      "Epoch:  0 | train loss: 0.3194 | test accuracy: 0.9335\n",
      "Epoch:  0 | train loss: 0.2141 | test accuracy: 0.9410\n",
      "Epoch:  0 | train loss: 0.1053 | test accuracy: 0.9550\n",
      "Epoch:  0 | train loss: 0.1258 | test accuracy: 0.9430\n",
      "Epoch:  0 | train loss: 0.0473 | test accuracy: 0.9515\n",
      "Epoch:  0 | train loss: 0.1626 | test accuracy: 0.9640\n",
      "Epoch:  0 | train loss: 0.0161 | test accuracy: 0.9650\n",
      "Epoch:  0 | train loss: 0.0266 | test accuracy: 0.9550\n",
      "Epoch:  0 | train loss: 0.0377 | test accuracy: 0.9545\n",
      "Epoch:  0 | train loss: 0.0150 | test accuracy: 0.9675\n",
      "Epoch:  0 | train loss: 0.1650 | test accuracy: 0.9660\n",
      "Epoch:  0 | train loss: 0.0407 | test accuracy: 0.9660\n",
      "Epoch:  0 | train loss: 0.1689 | test accuracy: 0.9745\n",
      "Epoch:  0 | train loss: 0.0124 | test accuracy: 0.9680\n",
      "Epoch:  0 | train loss: 0.1699 | test accuracy: 0.9695\n",
      "Epoch:  0 | train loss: 0.1051 | test accuracy: 0.9685\n",
      "Epoch:  0 | train loss: 0.0321 | test accuracy: 0.9710\n",
      "Epoch:  0 | train loss: 0.0565 | test accuracy: 0.9680\n",
      "Epoch:  0 | train loss: 0.0403 | test accuracy: 0.9725\n",
      "Epoch:  0 | train loss: 0.0178 | test accuracy: 0.9665\n",
      "Epoch:  0 | train loss: 0.1471 | test accuracy: 0.9655\n",
      "Epoch:  0 | train loss: 0.0312 | test accuracy: 0.9625\n"
     ]
    }
   ],
   "source": [
    "for epoch in range(EPOCH):\n",
    "    for step, (x, y) in enumerate(train_loader):\n",
    "        b_x = Variable(x)\n",
    "        b_y = Variable(y)\n",
    "        \n",
    "        out = cnn(b_x)\n",
    "        loss = loss_func(out, b_y)\n",
    "        optimizer.zero_grad()\n",
    "        loss.backward()\n",
    "        optimizer.step()\n",
    "        \n",
    "        if step % 50 == 0:\n",
    "            test_output = cnn(test_x)\n",
    "#             pred_y = torch.max(nn.functional.softmax(test_output), 1)[1].data.numpy().squeeze()\n",
    "            pred_y = torch.max(test_output, 1)[1].data.squeeze()\n",
    "            accuracy = sum(pred_y == test_y) / test_y.size(0)\n",
    "            print(\"Epoch: \", epoch, \"| train loss: %.4f\" % loss.item(), \"| test accuracy: %.4f\" % accuracy.data)"
   ]
  },
  {
   "cell_type": "code",
   "execution_count": 33,
   "metadata": {},
   "outputs": [
    {
     "name": "stdout",
     "output_type": "stream",
     "text": [
      "[7 2 1 0 4 1 4 4 5 9]  prediction number\n",
      "[7 2 1 0 4 1 4 9 5 9]  real number\n"
     ]
    }
   ],
   "source": [
    "test_output = cnn(test_x[:10])\n",
    "pred_y = torch.max(test_output, 1)[1].data.numpy().squeeze()\n",
    "print(pred_y, ' prediction number')\n",
    "print(test_y[:10].numpy(), ' real number')"
   ]
  },
  {
   "cell_type": "code",
   "execution_count": 34,
   "metadata": {},
   "outputs": [
    {
     "data": {
      "text/plain": [
       "tensor([[-11.6490,  -8.5891,  -1.6824,  -0.5803, -10.3914, -10.0280, -24.8918,\n",
       "          10.3321,  -9.0635,  -0.6888],\n",
       "        [ -0.8091,   0.8075,   7.5679,  -7.7060,  -8.1374, -14.6146,  -0.8192,\n",
       "         -14.8173,  -2.4590, -12.2183],\n",
       "        [-10.3781,   5.3311,  -7.6696,  -7.0499,  -2.1145,  -8.3859,  -5.1872,\n",
       "           0.7285,  -1.8962,  -7.5638],\n",
       "        [  6.7858, -15.4486,  -7.5357, -12.3111,  -3.9949,  -5.3369,   1.0636,\n",
       "          -8.1586,  -4.5700,  -4.1675],\n",
       "        [-10.1810, -11.2732,  -9.6065, -12.6780,  10.8733,  -9.2657, -11.3191,\n",
       "          -8.1329,  -4.7198,  -2.0724],\n",
       "        [-10.1526,   7.0709,  -4.9422,  -7.9375,  -3.4374, -12.5205,  -7.1702,\n",
       "           0.3469,  -2.1806,  -7.8051],\n",
       "        [-21.7420,  -6.4127, -11.6916, -13.6267,  12.0121,  -5.3986, -13.1657,\n",
       "         -10.8029,   0.1489,  -5.0479],\n",
       "        [-10.0096,  -9.1435,  -6.4197,  -7.6051,   5.5048,  -2.3329,  -9.8062,\n",
       "          -7.0042,  -2.2135,   5.3481],\n",
       "        [ -6.6513, -19.3800, -16.5064, -10.9178,  -4.7114,   4.2104,  -0.0498,\n",
       "         -10.5649,   1.8280,   1.0720],\n",
       "        [-11.3015, -12.6777,  -9.9900,  -5.4148,   0.9118,  -7.8167, -13.7337,\n",
       "          -1.4198,  -1.5678,   9.6648]], grad_fn=<AddmmBackward>)"
      ]
     },
     "execution_count": 34,
     "metadata": {},
     "output_type": "execute_result"
    }
   ],
   "source": [
    "test_output = cnn(test_x[:10])\n",
    "test_output"
   ]
  },
  {
   "cell_type": "code",
   "execution_count": 37,
   "metadata": {},
   "outputs": [
    {
     "data": {
      "text/plain": [
       "torch.return_types.max(\n",
       "values=tensor([10.3321,  7.5679,  5.3311,  6.7858, 10.8733,  7.0709, 12.0121,  5.5048,\n",
       "         4.2104,  9.6648], grad_fn=<MaxBackward0>),\n",
       "indices=tensor([7, 2, 1, 0, 4, 1, 4, 4, 5, 9]))"
      ]
     },
     "execution_count": 37,
     "metadata": {},
     "output_type": "execute_result"
    }
   ],
   "source": [
    "y = torch.max(test_output, dim=1)\n",
    "y"
   ]
  },
  {
   "cell_type": "code",
   "execution_count": 38,
   "metadata": {},
   "outputs": [
    {
     "data": {
      "text/plain": [
       "tensor([7, 2, 1, 0, 4, 1, 4, 4, 5, 9])"
      ]
     },
     "execution_count": 38,
     "metadata": {},
     "output_type": "execute_result"
    }
   ],
   "source": [
    "y[1]"
   ]
  },
  {
   "cell_type": "code",
   "execution_count": null,
   "metadata": {},
   "outputs": [],
   "source": []
  }
 ],
 "metadata": {
  "kernelspec": {
   "display_name": "Python 3",
   "language": "python",
   "name": "python3"
  },
  "language_info": {
   "codemirror_mode": {
    "name": "ipython",
    "version": 3
   },
   "file_extension": ".py",
   "mimetype": "text/x-python",
   "name": "python",
   "nbconvert_exporter": "python",
   "pygments_lexer": "ipython3",
   "version": "3.6.12"
  }
 },
 "nbformat": 4,
 "nbformat_minor": 4
}
