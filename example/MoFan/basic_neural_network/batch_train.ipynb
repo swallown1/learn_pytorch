{
 "cells": [
  {
   "cell_type": "code",
   "execution_count": 12,
   "metadata": {},
   "outputs": [],
   "source": [
    "import torch\n",
    "import torch.utils.data as Data"
   ]
  },
  {
   "cell_type": "code",
   "execution_count": 2,
   "metadata": {},
   "outputs": [],
   "source": [
    "BATCH_SIZE = 5"
   ]
  },
  {
   "cell_type": "code",
   "execution_count": 3,
   "metadata": {},
   "outputs": [],
   "source": [
    "x = torch.linspace(1,10,20)\n",
    "y = torch.linspace(10,1,20)"
   ]
  },
  {
   "cell_type": "code",
   "execution_count": 7,
   "metadata": {},
   "outputs": [],
   "source": [
    "torch_data = Data.TensorDataset(x, y)"
   ]
  },
  {
   "cell_type": "code",
   "execution_count": 10,
   "metadata": {},
   "outputs": [],
   "source": [
    "loader = Data.DataLoader(\n",
    "    dataset=torch_data,\n",
    "    batch_size=BATCH_SIZE,\n",
    "    shuffle=True,\n",
    ")"
   ]
  },
  {
   "cell_type": "code",
   "execution_count": 11,
   "metadata": {},
   "outputs": [
    {
     "name": "stdout",
     "output_type": "stream",
     "text": [
      "Epoch:  0 | Step:  0 | batch x:  [5.263158  6.6842103 7.1578946 1.9473684 9.526316 ] | batch y:  [5.736842  4.3157897 3.8421054 9.052631  1.4736842]\n",
      "Epoch:  0 | Step:  1 | batch x:  [3.368421  8.105263  5.736842  1.        6.2105265] | batch y:  [ 7.631579   2.894737   5.263158  10.         4.7894735]\n",
      "Epoch:  0 | Step:  2 | batch x:  [ 8.578947   4.315789  10.         1.4736842  7.631579 ] | batch y:  [2.4210527 6.684211  1.        9.526316  3.368421 ]\n",
      "Epoch:  0 | Step:  3 | batch x:  [4.7894735 2.8947368 2.4210527 9.052631  3.8421054] | batch y:  [6.2105265 8.105263  8.578947  1.9473684 7.1578946]\n",
      "Epoch:  1 | Step:  0 | batch x:  [4.315789  1.        6.6842103 3.368421  9.052631 ] | batch y:  [ 6.684211  10.         4.3157897  7.631579   1.9473684]\n",
      "Epoch:  1 | Step:  1 | batch x:  [8.105263  1.9473684 2.8947368 7.631579  1.4736842] | batch y:  [2.894737 9.052631 8.105263 3.368421 9.526316]\n",
      "Epoch:  1 | Step:  2 | batch x:  [3.8421054 2.4210527 5.263158  8.578947  4.7894735] | batch y:  [7.1578946 8.578947  5.736842  2.4210527 6.2105265]\n",
      "Epoch:  1 | Step:  3 | batch x:  [ 6.2105265  5.736842   7.1578946 10.         9.526316 ] | batch y:  [4.7894735 5.263158  3.8421054 1.        1.4736842]\n",
      "Epoch:  2 | Step:  0 | batch x:  [3.8421054 5.263158  9.526316  2.4210527 9.052631 ] | batch y:  [7.1578946 5.736842  1.4736842 8.578947  1.9473684]\n",
      "Epoch:  2 | Step:  1 | batch x:  [ 8.105263   2.8947368  6.6842103  6.2105265 10.       ] | batch y:  [2.894737  8.105263  4.3157897 4.7894735 1.       ]\n",
      "Epoch:  2 | Step:  2 | batch x:  [4.7894735 7.1578946 7.631579  1.9473684 1.4736842] | batch y:  [6.2105265 3.8421054 3.368421  9.052631  9.526316 ]\n",
      "Epoch:  2 | Step:  3 | batch x:  [3.368421 8.578947 4.315789 5.736842 1.      ] | batch y:  [ 7.631579   2.4210527  6.684211   5.263158  10.       ]\n"
     ]
    }
   ],
   "source": [
    "for epoch in range(3):\n",
    "    for step, (batch_x, batch_y) in enumerate(loader):\n",
    "        # 打出来一些数据\n",
    "        print('Epoch: ', epoch, '| Step: ', step, '| batch x: ',batch_x.numpy(), '| batch y: ', batch_y.numpy())"
   ]
  },
  {
   "cell_type": "code",
   "execution_count": null,
   "metadata": {},
   "outputs": [],
   "source": []
  }
 ],
 "metadata": {
  "kernelspec": {
   "display_name": "Python 3",
   "language": "python",
   "name": "python3"
  },
  "language_info": {
   "codemirror_mode": {
    "name": "ipython",
    "version": 3
   },
   "file_extension": ".py",
   "mimetype": "text/x-python",
   "name": "python",
   "nbconvert_exporter": "python",
   "pygments_lexer": "ipython3",
   "version": "3.6.12"
  }
 },
 "nbformat": 4,
 "nbformat_minor": 4
}
